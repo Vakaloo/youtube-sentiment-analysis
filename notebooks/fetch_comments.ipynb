{
 "cells": [
  {
   "cell_type": "code",
   "execution_count": 1,
   "id": "b3ebc53b-a320-4a3a-9e1c-8738b794150f",
   "metadata": {},
   "outputs": [],
   "source": [
    "from dotenv import load_dotenv\n",
    "import os\n",
    "import pandas as pd\n",
    "import time \n",
    "import googleapiclient.discovery as build\n",
    "from googleapiclient.errors import HttpError"
   ]
  },
  {
   "cell_type": "code",
   "execution_count": 3,
   "id": "79ac86fe-89b8-499a-9f82-76705bd99aa4",
   "metadata": {},
   "outputs": [
    {
     "name": "stdout",
     "output_type": "stream",
     "text": [
      "API key loaded successfully!\n"
     ]
    },
    {
     "data": {
      "text/plain": [
       "<googleapiclient.discovery.Resource at 0x21188a59b80>"
      ]
     },
     "execution_count": 3,
     "metadata": {},
     "output_type": "execute_result"
    }
   ],
   "source": [
    "# Load the YOUTUBE API key from the .env file\n",
    "load_dotenv()\n",
    "YOUTUBE_API_KEY = os.getenv(\"YOUTUBE_API_KEY\")\n",
    "if YOUTUBE_API_KEY: \n",
    "    print(\"API key loaded successfully!\")\n",
    "else:\n",
    "    print(\"Error: API Key not found. Check your .env file.\")\n",
    "\n",
    "api_service_name = \"youtube\"\n",
    "api_version = \"v3\"\n",
    "\n",
    "# Initialize the YouTube API client\n",
    "youtube = build.build(\"youtube\", \"v3\", developerKey=YOUTUBE_API_KEY)\n",
    "youtube"
   ]
  },
  {
   "cell_type": "code",
   "execution_count": 4,
   "id": "1e90272e",
   "metadata": {},
   "outputs": [
    {
     "name": "stdout",
     "output_type": "stream",
     "text": [
      "{'kind': 'youtube#videoListResponse', 'etag': 'ZBKNGl5WNl7U0az9xPQAhMvkReg', 'items': [{'kind': 'youtube#video', 'etag': 'q7l1VYYpz3hTe47YsKLgcNH5S1c', 'id': 'UDVOuh-LDx8', 'snippet': {'publishedAt': '2025-03-14T17:00:36Z', 'channelId': 'UC-lHJZR3Gqxm24_Vd_AJ5Yw', 'title': 'We finally decided.', 'description': \"Get exclusive NordVPN deal here ➵ https://NordVPN.com/pewdiepie It’s risk free with Nord’s 30 day money-back guarantee!✌\\n\\n🌎 Get an exclusive 15% discount on Saily data plans! Use code pewdiepie at checkout. Download Saily app or go to https://saily.com/pewdiepie ⛵\\n\\nOfficial ƿ૯ωძɿ૯ƿɿ૯ TikTok: https://www.tiktok.com/@pewdiepie\\n\\n∞ Official ƿ૯ωძɿ૯ƿɿ૯ Infinity Stream: https://www.twitch.tv/pewdiepie\\n\\n⚙️ My Setup (affiliate links)⚙️\\n🖥️  PC: https://howl.me/clHcdRoIePi\\n🎧 Headphones: https://www.anrdoezrs.net/click-100814745-14330447\\n🪑 Chair: https://tinyurl.com/clutchpdp\\n⌨️ 🖱️ Keyboard & Mouse: https://tinyurl.com/ghostpdp\\n\\n👟 Sneakers: https://howl.me/clHccGkb0M4\\n\\n🕹️ PewDiePie's Tuber Simulator\\niOS: https://tinyurl.com/tuberIOS\\nAndroid: https://tinyurl.com/tuberandroid\\n\\n🕹️ PewDiePie's Pixelings\\niOS: https://tinyurl.com/pixelingsiOS\\nAndroid: https://tinyurl.com/pixelingsandroid\", 'thumbnails': {'default': {'url': 'https://i.ytimg.com/vi/UDVOuh-LDx8/default.jpg', 'width': 120, 'height': 90}, 'medium': {'url': 'https://i.ytimg.com/vi/UDVOuh-LDx8/mqdefault.jpg', 'width': 320, 'height': 180}, 'high': {'url': 'https://i.ytimg.com/vi/UDVOuh-LDx8/hqdefault.jpg', 'width': 480, 'height': 360}, 'standard': {'url': 'https://i.ytimg.com/vi/UDVOuh-LDx8/sddefault.jpg', 'width': 640, 'height': 480}, 'maxres': {'url': 'https://i.ytimg.com/vi/UDVOuh-LDx8/maxresdefault.jpg', 'width': 1280, 'height': 720}}, 'channelTitle': 'PewDiePie', 'tags': ['pewdiepie', 'pewds', 'pewdie'], 'categoryId': '20', 'liveBroadcastContent': 'none', 'defaultLanguage': 'en-US', 'localized': {'title': 'We finally decided.', 'description': \"Get exclusive NordVPN deal here ➵ https://NordVPN.com/pewdiepie It’s risk free with Nord’s 30 day money-back guarantee!✌\\n\\n🌎 Get an exclusive 15% discount on Saily data plans! Use code pewdiepie at checkout. Download Saily app or go to https://saily.com/pewdiepie ⛵\\n\\nOfficial ƿ૯ωძɿ૯ƿɿ૯ TikTok: https://www.tiktok.com/@pewdiepie\\n\\n∞ Official ƿ૯ωძɿ૯ƿɿ૯ Infinity Stream: https://www.twitch.tv/pewdiepie\\n\\n⚙️ My Setup (affiliate links)⚙️\\n🖥️  PC: https://howl.me/clHcdRoIePi\\n🎧 Headphones: https://www.anrdoezrs.net/click-100814745-14330447\\n🪑 Chair: https://tinyurl.com/clutchpdp\\n⌨️ 🖱️ Keyboard & Mouse: https://tinyurl.com/ghostpdp\\n\\n👟 Sneakers: https://howl.me/clHccGkb0M4\\n\\n🕹️ PewDiePie's Tuber Simulator\\niOS: https://tinyurl.com/tuberIOS\\nAndroid: https://tinyurl.com/tuberandroid\\n\\n🕹️ PewDiePie's Pixelings\\niOS: https://tinyurl.com/pixelingsiOS\\nAndroid: https://tinyurl.com/pixelingsandroid\"}, 'defaultAudioLanguage': 'en-GB'}, 'contentDetails': {'duration': 'PT29M9S', 'dimension': '2d', 'definition': 'hd', 'caption': 'false', 'licensedContent': False, 'regionRestriction': {'blocked': ['RU']}, 'contentRating': {}, 'projection': 'rectangular'}, 'statistics': {'viewCount': '3573698', 'likeCount': '202503', 'favoriteCount': '0', 'commentCount': '7886'}}], 'pageInfo': {'totalResults': 1, 'resultsPerPage': 1}}\n",
      "dict_keys(['kind', 'etag', 'id', 'snippet', 'contentDetails', 'statistics'])\n"
     ]
    }
   ],
   "source": [
    "video_id = 'UDVOuh-LDx8' \n",
    "\n",
    "video_response = youtube.videos().list(\n",
    "    part = \"id,snippet,contentDetails,statistics\",\n",
    "    id = video_id, # Replace with the actual video ID\n",
    ").execute()   \n",
    "\n",
    "if not video_response:\n",
    "    print(\"No response from the API.\")\n",
    "\n",
    "print(video_response)\n",
    "print(video_response['items'][0].keys())"
   ]
  },
  {
   "cell_type": "code",
   "execution_count": 4,
   "id": "01faf151",
   "metadata": {},
   "outputs": [
    {
     "data": {
      "text/plain": [
       "{'Channel_name': 'PewDiePie',\n",
       " 'video_id': 'UDVOuh-LDx8',\n",
       " 'video_url': 'https://www.youtube.com/watch?v=UDVOuh-LDx8',\n",
       " 'video_title': 'We finally decided.',\n",
       " 'video_publication_date': '2025-03-14T17:00:36Z',\n",
       " 'video_duration': 'PT29M9S',\n",
       " 'video_view_count': 3573476,\n",
       " 'video_like_count': 202492,\n",
       " 'video_comment_count': 7886}"
      ]
     },
     "execution_count": 4,
     "metadata": {},
     "output_type": "execute_result"
    }
   ],
   "source": [
    "# Useful links: https://medium.com/mcd-unison/youtube-data-api-v3-in-python-tutorial-with-examples-e829a25d2ebd#a60a\n",
    "# https://developers.google.com/youtube/v3/docs/search\n",
    "\n",
    "video_data = video_response['items'][0]\n",
    "\n",
    "video_snippet = video_data['snippet']\n",
    "video_statistics = video_data['statistics']\n",
    "video_content_details = video_data['contentDetails']\n",
    "\n",
    "# Crreate a dictionrary for the data of the video\n",
    "video_info = {\n",
    "    'Channel_name': video_snippet['channelTitle'],\n",
    "    'video_id': video_data['id'],\n",
    "    'video_url': f\"https://www.youtube.com/watch?v={video_data['id']}\",\n",
    "    'video_title': video_data['snippet']['title'],\n",
    "    'video_publication_date': video_data['snippet']['publishedAt'],\n",
    "    'video_duration': video_content_details['duration'],\n",
    "    'video_view_count': int(video_statistics['viewCount']),\n",
    "    'video_like_count': int(video_statistics['likeCount']),\n",
    "    'video_comment_count': int(video_statistics['commentCount'])\n",
    "}\n",
    "\n",
    "video_info\n"
   ]
  },
  {
   "cell_type": "code",
   "execution_count": null,
   "id": "0ee99658",
   "metadata": {},
   "outputs": [],
   "source": [
    "'''\n",
    "next_page_token = None\n",
    "next_page_token = response.get('nextPageToken')\n",
    "response = youtube.commentThreads().list(\n",
    "    part='snippet,replies',            \n",
    "    videoId=video_id,             \n",
    "    maxResults=10,                    \n",
    "    textFormat='plainText',\n",
    "    pageToken=next_page_token,\n",
    ").execute()\n",
    "\n",
    "# print(response)\n",
    "print(response['items'][0]['id'])\n",
    "print(response['items'][0].keys())\n",
    "# print(response['items'][0]['snippet']['topLevelComment']['snippet']['textDisplay'])\n",
    "\n",
    "next_page_token = None\n",
    "all_comments = []\n",
    "# Include also the time needed to save the comments\n",
    "try:\n",
    "    start_time = time.time()\n",
    "    for i in range(min(100, video_info['video_comment_count'])):\n",
    "        response = youtube.commentThreads().list(\n",
    "            part='snippet,replies',            \n",
    "            videoId=video_id,             \n",
    "            maxResults=1,                    \n",
    "            textFormat='plainText',\n",
    "            pageToken=next_page_token,\n",
    "        ).execute()\n",
    "        next_page_token = response.get('nextPageToken')\n",
    "        # print(response['items'][0]['snippet']['topLevelComment']['snippet']['textDisplay'])\n",
    "        comment = response['items'][0]['snippet']['topLevelComment']['snippet']['textDisplay']\n",
    "        all_comments.append(comment)\n",
    "    end_time = time.time()\n",
    "    total_time = end_time - start_time\n",
    "    print(f\"Time taken to fetch comments: {round(total_time,2)} seconds\")\n",
    "    print(f\"The total number of comments is {len(all_comments)}\")\n",
    "except HttpError as e:\n",
    "        print(f\"An HTTP error {e.resp.status} occurred:\\n{e.content}\")\n",
    "\n",
    "'''\n"
   ]
  },
  {
   "cell_type": "code",
   "execution_count": 6,
   "id": "19bab173",
   "metadata": {},
   "outputs": [
    {
     "name": "stdout",
     "output_type": "stream",
     "text": [
      "Reached the maximum number of comments.\n",
      "Time taken to fetch comments: 24.88 seconds\n",
      "The total number of comments is 7886\n"
     ]
    }
   ],
   "source": [
    "# Link for the docummentaion of the youtube.commentThreads().list() method:\n",
    "# https://developers.google.com/resources/api-libraries/documentation/youtube/v3/python/latest/youtube_v3.commentThreads.html\n",
    "\n",
    "all_comments = []\n",
    "next_page_token = None\n",
    "max_numner_of_comments = video_info['video_comment_count']\n",
    "# max_numner_of_comments = 1000\n",
    "try:\n",
    "    start_time = time.time()\n",
    "    while len(all_comments) < max_numner_of_comments:\n",
    "        response = youtube.commentThreads().list(\n",
    "            part='snippet,replies',            \n",
    "            videoId=video_id,             \n",
    "            maxResults=min(100, max_numner_of_comments - len(all_comments)),                    \n",
    "            textFormat='plainText',\n",
    "            pageToken=next_page_token,\n",
    "        ).execute()\n",
    "        # If no comment threads are found, break the loop\n",
    "        if not response.get('items'):\n",
    "            print(\"No comment threads found.\")\n",
    "            break\n",
    "\n",
    "        for item in response['items']:\n",
    "            comment = item['snippet']['topLevelComment']['snippet']\n",
    "\n",
    "            comment_info = {\n",
    "                'comment_id': item['id'],\n",
    "                'author': comment['authorDisplayName'],\n",
    "                'author_id': comment.get('authorChannelId', {}).get('value', ''),\n",
    "                'text': comment['textDisplay'],\n",
    "                'like_count': comment['likeCount'],\n",
    "                'published_at': comment['publishedAt'],\n",
    "                'updated_at': comment['updatedAt'],\n",
    "            }\n",
    "\n",
    "            all_comments.append(comment_info)\n",
    "\n",
    "            if len(all_comments) >= max_numner_of_comments:\n",
    "                print(\"Reached the maximum number of comments.\")\n",
    "                break\n",
    "\n",
    "            # Check if there are more comments to fetch\n",
    "            next_page_token = response.get('nextPageToken')\n",
    "            if not next_page_token:\n",
    "                break\n",
    "            \n",
    "            # Sleep to avoid hitting rate limits\n",
    "            # time.sleep(0.5)\n",
    "    end_time = time.time()\n",
    "    total_time = end_time - start_time\n",
    "    print(f\"Time taken to fetch comments: {round(total_time,2)} seconds\")\n",
    "    print(f\"The total number of comments is {len(all_comments)}\")\n",
    "except HttpError as e:\n",
    "    print(f\"An HTTP error {e.resp.status} occurred:\\n{e.content}\")"
   ]
  },
  {
   "cell_type": "code",
   "execution_count": 23,
   "id": "8b932d4d",
   "metadata": {},
   "outputs": [
    {
     "name": "stdout",
     "output_type": "stream",
     "text": [
      "Video comments with title: We finally decided. saved to CSV file: \\youtube-sentiment-analysis\\data\\PewDiePie_We finally decided._comments.csv\n"
     ]
    }
   ],
   "source": [
    "# Now we move on to save the data first as a pandas dataframe and then in a csv file \n",
    "comments_df = pd.DataFrame(all_comments)\n",
    "\n",
    "# Save the comments to a CSV file\n",
    "folder_path = '\\\\youtube-sentiment-analysis\\\\data'\n",
    "video_info['video_title']\n",
    "\n",
    "# Create the CSV file path using the video title\n",
    "csv_file_path = os.path.join(folder_path, f\"{video_info['Channel_name']}_{video_info['video_title']}_comments.csv\")\n",
    "\n",
    "# Save the video comments to a CSV file\n",
    "comments_df.to_csv(csv_file_path, index=False)\n",
    "\n",
    "print(f'Video comments with title: {video_info[\"video_title\"]} saved to CSV file: {csv_file_path}')\n"
   ]
  },
  {
   "cell_type": "code",
   "execution_count": null,
   "id": "721fb9cf",
   "metadata": {},
   "outputs": [],
   "source": []
  }
 ],
 "metadata": {
  "kernelspec": {
   "display_name": "youtube-sentiment-analysis",
   "language": "python",
   "name": "youtube-sentiment-analysis"
  },
  "language_info": {
   "codemirror_mode": {
    "name": "ipython",
    "version": 3
   },
   "file_extension": ".py",
   "mimetype": "text/x-python",
   "name": "python",
   "nbconvert_exporter": "python",
   "pygments_lexer": "ipython3",
   "version": "3.9.6"
  }
 },
 "nbformat": 4,
 "nbformat_minor": 5
}
